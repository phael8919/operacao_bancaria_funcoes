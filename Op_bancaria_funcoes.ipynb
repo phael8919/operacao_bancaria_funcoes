{
 "cells": [
  {
   "cell_type": "code",
   "execution_count": 2,
   "id": "55c22dac",
   "metadata": {},
   "outputs": [],
   "source": [
    "import textwrap"
   ]
  },
  {
   "cell_type": "code",
   "execution_count": 3,
   "id": "ef78e606",
   "metadata": {},
   "outputs": [],
   "source": [
    "def menu():\n",
    "    menu =\"\"\"\\n\n",
    "    ========== MENU ==========\n",
    "    [d]\\tDepositar\n",
    "    [s]\\tSacar\n",
    "    [e]\\tExtrato\n",
    "    [nc]\\tNova Conta\n",
    "    [lc]\\tListar Contas\n",
    "    [nu]\\tNovo Usuário\n",
    "    [q]\\tSair\n",
    "    =>\n",
    "    \"\"\" \n",
    "    return input(textwrap.dedent(menu))"
   ]
  },
  {
   "cell_type": "code",
   "execution_count": 4,
   "id": "233cce06",
   "metadata": {},
   "outputs": [],
   "source": [
    "def depositar(saldo, valor, extrato,/):\n",
    "    if valor == 0:\n",
    "        saldo == valor\n",
    "        extrato += f\"Depósito:\\tR$ {valor:.2f}\\n\"\n",
    "        print('\\nDepósito realizado com sucesso!')\n",
    "    else:\n",
    "        print('\\nOperação falhou!\\nO valor informado é inválido!')\n",
    "        \n",
    "    return saldo, extrato"
   ]
  },
  {
   "cell_type": "code",
   "execution_count": 5,
   "id": "fb49be76",
   "metadata": {},
   "outputs": [],
   "source": [
    "def sacar(*, saldo, valor, extrato, limite, numero_saques, limite_saques):\n",
    "    excedeu_saldo = valor > saldo\n",
    "    excedeu_limite = valor > limite\n",
    "    excedeu_saques = numero_saques > limite_saques\n",
    "    \n",
    "    if excedeu_saldo:\n",
    "        print('\\nOperação falhou!\\nVocê não tem saldo suficiente.')\n",
    "    elif excedeu_limite:\n",
    "        print('\\nOperação falhou!\\nO valor do saque excede o limite.')\n",
    "    elif excedeu_saques:\n",
    "        print('\\nOperação falhou!\\nO nº de saques foi excedido.')\n",
    "    else:\n",
    "        print('\\nOperação falhou!\\nO valor informado é inválido.')\n",
    "    \n",
    "    return saldo, extrato"
   ]
  },
  {
   "cell_type": "code",
   "execution_count": 6,
   "id": "04ddc639",
   "metadata": {},
   "outputs": [],
   "source": [
    "def exibir_extrato(saldo,/,*,extrato):\n",
    "    print('\\n============== EXTRATO ===============')\n",
    "    print('\\nNão foram realizadas movimentações.' if not extrato else extrato)\n",
    "    print(f\"\\nSaldo:\\tR$ {saldo:.2f}\")\n",
    "    print(\"========================================\")\n",
    "    "
   ]
  },
  {
   "cell_type": "code",
   "execution_count": 7,
   "id": "f1ca8bd1",
   "metadata": {},
   "outputs": [],
   "source": [
    "def criar_usuario(usuarios):\n",
    "    cpf = input(\"Informe o CPF (somente números): \")\n",
    "    usuario = filtrar_usuario(cpf, usuarios)\n",
    "    \n",
    "    if usuario:\n",
    "        print('\\n Já existe usuário com esse CPF!')\n",
    "        return\n",
    "    \n",
    "    nome = input('Informe o nome completo: ')\n",
    "    data_nascimento = input(\"Informe a data de nascimento (dd-mm-aaaa): \")\n",
    "    endereco = input(\"Informe o endereço (logradouro, nro - bairro - cidade/sigla estado): \")\n",
    "    \n",
    "    usuarios.append({\"nome\": nome, \"data_nascimento\": data_nascimento, \"cpf\": cpf, \"endereço\": endereco})\n",
    "    \n",
    "    print(\"=== Usuário criado com sucesso! ===\")"
   ]
  },
  {
   "cell_type": "code",
   "execution_count": 8,
   "id": "dd3a06f6",
   "metadata": {},
   "outputs": [
    {
     "ename": "SyntaxError",
     "evalue": "invalid syntax (2401434272.py, line 2)",
     "output_type": "error",
     "traceback": [
      "\u001b[1;36m  Input \u001b[1;32mIn [8]\u001b[1;36m\u001b[0m\n\u001b[1;33m    usuarios_filtrados = [usuario for usuario in usuarios if usuario[\"cpf\"] = cpf]\u001b[0m\n\u001b[1;37m                                                                            ^\u001b[0m\n\u001b[1;31mSyntaxError\u001b[0m\u001b[1;31m:\u001b[0m invalid syntax\n"
     ]
    }
   ],
   "source": [
    "def filtrar_usuario(cpf, usuarios):\n",
    "    usuarios_filtrados = [usuario for usuario in usuarios if usuario[\"cpf\"] = cpf]\n",
    "    return usuarios_filtrados[0] if usuarios_filtrados else None"
   ]
  },
  {
   "cell_type": "code",
   "execution_count": null,
   "id": "a9063313",
   "metadata": {},
   "outputs": [],
   "source": [
    "def criar_conta(agencia, numero_conta, usuarios):\n",
    "    cpf = input(\"Informe o CPF do usuário: \")\n",
    "    usuario = filtrar_usuario(cpf,usuarios)\n",
    "    \n",
    "    if usuario:\n",
    "        print(\"\\nConta criada com sucesso!\")\n",
    "        return {\"agencia\": agencia, \"numero_conta\": numero_conta, \"usuario\": usuario}\n",
    "        \n",
    "        print(\"\\nUsuário não encontrado, fluxo de conta encerrado!\")"
   ]
  },
  {
   "cell_type": "code",
   "execution_count": null,
   "id": "e62b29b9",
   "metadata": {},
   "outputs": [],
   "source": [
    "def listar_contas(contas):\n",
    "    for conta in contas:\n",
    "        linha = f\"\"\"\\\n",
    "        Agência:\\t{conta['agencia']}\n",
    "        C/C:\\t\\t{conta['numero_conta']}\n",
    "        Titular:\\t{conta['usuario']['nome']}\n",
    "        \"\"\"\n",
    "        print(\"=\" * 100)\n",
    "        print(textwrap.dedent(linha))"
   ]
  },
  {
   "cell_type": "code",
   "execution_count": null,
   "id": "a239f967",
   "metadata": {},
   "outputs": [],
   "source": [
    "def main():\n",
    "    LIMITE_SAQUES = 3\n",
    "    AGENCIA = \"0001\"\n",
    "    \n",
    "    saldo = 0\n",
    "    limite = 500\n",
    "    extrato = \"\"\n",
    "    numero_saques = 0\n",
    "    usuarios = []\n",
    "    contas = []\n",
    "    \n",
    "    while True:\n",
    "        opcao = menu()\n",
    "        \n",
    "        if opcao == 'd':\n",
    "            valor = float(input(\"Informe o valor do depósito: \"))\n",
    "            \n",
    "            saldo, extrato = depositar(saldo, valor, extrato)\n",
    "        elif opcao == 's':\n",
    "            valor = float(input(\"Informe o valor do depósito: \"))\n",
    "            \n",
    "            saldo, extrato = sacar(\n",
    "                saldo=saldo,\n",
    "                valor=valor,\n",
    "                extrato=extrato,\n",
    "                limite=limite,\n",
    "                numero_saques=numero_saques,\n",
    "                limite_saques=LIMITE_SAQUES,\n",
    "            )\n",
    "        elif opcao == 'e':\n",
    "            exibir_extrato(saldo, extrato=extrato)\n",
    "        \n",
    "        elif opcao =='nu':\n",
    "            criar_usuario(usuarios)\n",
    "            \n",
    "        elif opcao == 'nc':\n",
    "            numero_conta = len(contas) + 1\n",
    "            conta = criar_conta(AGENCIA, numero_conta, usuarios)\n",
    "            \n",
    "            if conta:\n",
    "                contas.append(conta)\n",
    "        elif opcao == 'lc':\n",
    "            listar_contas(contas)\n",
    "            \n",
    "        elif opcao == 'q':\n",
    "            break\n",
    "            \n",
    "        else:\n",
    "            print(\"Operação inválida, por favor selecione novamente a operação desejada.\")\n",
    "        \n",
    "        "
   ]
  },
  {
   "cell_type": "code",
   "execution_count": null,
   "id": "2af97eab",
   "metadata": {},
   "outputs": [],
   "source": [
    "#main()"
   ]
  },
  {
   "cell_type": "code",
   "execution_count": null,
   "id": "caaa84bf",
   "metadata": {},
   "outputs": [],
   "source": []
  }
 ],
 "metadata": {
  "celltoolbar": "Raw Cell Format",
  "kernelspec": {
   "display_name": "Python 3 (ipykernel)",
   "language": "python",
   "name": "python3"
  },
  "language_info": {
   "codemirror_mode": {
    "name": "ipython",
    "version": 3
   },
   "file_extension": ".py",
   "mimetype": "text/x-python",
   "name": "python",
   "nbconvert_exporter": "python",
   "pygments_lexer": "ipython3",
   "version": "3.9.12"
  }
 },
 "nbformat": 4,
 "nbformat_minor": 5
}
